{
  "nbformat": 4,
  "nbformat_minor": 0,
  "metadata": {
    "colab": {
      "provenance": [],
      "authorship_tag": "ABX9TyNDckb7Zm/eemyZeOqDWxTw",
      "include_colab_link": true
    },
    "kernelspec": {
      "name": "python3",
      "display_name": "Python 3"
    },
    "language_info": {
      "name": "python"
    }
  },
  "cells": [
    {
      "cell_type": "markdown",
      "metadata": {
        "id": "view-in-github",
        "colab_type": "text"
      },
      "source": [
        "<a href=\"https://colab.research.google.com/github/MukheetIIT/ML_Assignment1_4Q/blob/main/MaxMIN.ipynb\" target=\"_parent\"><img src=\"https://colab.research.google.com/assets/colab-badge.svg\" alt=\"Open In Colab\"/></a>"
      ]
    },
    {
      "cell_type": "code",
      "execution_count": 2,
      "metadata": {
        "colab": {
          "base_uri": "https://localhost:8080/"
        },
        "id": "qrewnT6cgIQj",
        "outputId": "18daa324-e8e3-4793-b2d7-d682914a1b5f"
      },
      "outputs": [
        {
          "output_type": "stream",
          "name": "stdout",
          "text": [
            "    alcohol  malic_acid       ash  alcalinity_of_ash  magnesium  \\\n",
            "0  0.842105    0.191700  0.572193           0.257732   0.619565   \n",
            "1  0.571053    0.205534  0.417112           0.030928   0.326087   \n",
            "2  0.560526    0.320158  0.700535           0.412371   0.336957   \n",
            "3  0.878947    0.239130  0.609626           0.319588   0.467391   \n",
            "4  0.581579    0.365613  0.807487           0.536082   0.521739   \n",
            "\n",
            "   total_phenols  flavanoids  nonflavanoid_phenols  proanthocyanins  \\\n",
            "0       0.627586    0.573840              0.283019         0.593060   \n",
            "1       0.575862    0.510549              0.245283         0.274448   \n",
            "2       0.627586    0.611814              0.320755         0.757098   \n",
            "3       0.989655    0.664557              0.207547         0.558360   \n",
            "4       0.627586    0.495781              0.490566         0.444795   \n",
            "\n",
            "   color_intensity       hue  od280/od315_of_diluted_wines   proline  quality  \n",
            "0         0.372014  0.455285                      0.970696  0.561341        0  \n",
            "1         0.264505  0.463415                      0.780220  0.550642        0  \n",
            "2         0.375427  0.447154                      0.695971  0.646933        0  \n",
            "3         0.556314  0.308943                      0.798535  0.857347        0  \n",
            "4         0.259386  0.455285                      0.608059  0.325963        0  \n"
          ]
        }
      ],
      "source": [
        "import pandas as pd\n",
        "from sklearn.datasets import load_wine\n",
        "from sklearn.preprocessing import MinMaxScaler\n",
        "\n",
        "wine_q = load_wine()\n",
        "df = pd.DataFrame(wine_q.data, columns=wine_q.feature_names)\n",
        "df['quality'] = wine_q.target\n",
        "\n",
        "df['quality'] = df['quality'].apply(lambda x: 0 if x <= 6 else 1)\n",
        "\n",
        "scaler = MinMaxScaler()\n",
        "scaled_features = scaler.fit_transform(df.drop('quality', axis=1))\n",
        "\n",
        "scaled_df = pd.DataFrame(scaled_features, columns=df.columns[:-1])\n",
        "scaled_df['quality'] = df['quality']\n",
        "\n",
        "print(scaled_df.head())\n"
      ]
    },
    {
      "cell_type": "code",
      "source": [
        "print(scaled_df.tail())"
      ],
      "metadata": {
        "colab": {
          "base_uri": "https://localhost:8080/"
        },
        "id": "oBHq7xQmw8cz",
        "outputId": "a20d2056-798f-4a56-dfe3-18821c324d64"
      },
      "execution_count": 3,
      "outputs": [
        {
          "output_type": "stream",
          "name": "stdout",
          "text": [
            "      alcohol  malic_acid       ash  alcalinity_of_ash  magnesium  \\\n",
            "173  0.705263    0.970356  0.582888           0.510309   0.271739   \n",
            "174  0.623684    0.626482  0.598930           0.639175   0.347826   \n",
            "175  0.589474    0.699605  0.481283           0.484536   0.543478   \n",
            "176  0.563158    0.365613  0.540107           0.484536   0.543478   \n",
            "177  0.815789    0.664032  0.737968           0.716495   0.282609   \n",
            "\n",
            "     total_phenols  flavanoids  nonflavanoid_phenols  proanthocyanins  \\\n",
            "173       0.241379    0.056962              0.735849         0.205047   \n",
            "174       0.282759    0.086498              0.566038         0.315457   \n",
            "175       0.210345    0.073840              0.566038         0.296530   \n",
            "176       0.231034    0.071730              0.754717         0.331230   \n",
            "177       0.368966    0.088608              0.811321         0.296530   \n",
            "\n",
            "     color_intensity       hue  od280/od315_of_diluted_wines   proline  \\\n",
            "173         0.547782  0.130081                      0.172161  0.329529   \n",
            "174         0.513652  0.178862                      0.106227  0.336662   \n",
            "175         0.761092  0.089431                      0.106227  0.397290   \n",
            "176         0.684300  0.097561                      0.128205  0.400856   \n",
            "177         0.675768  0.105691                      0.120879  0.201141   \n",
            "\n",
            "     quality  \n",
            "173        0  \n",
            "174        0  \n",
            "175        0  \n",
            "176        0  \n",
            "177        0  \n"
          ]
        }
      ]
    }
  ]
}